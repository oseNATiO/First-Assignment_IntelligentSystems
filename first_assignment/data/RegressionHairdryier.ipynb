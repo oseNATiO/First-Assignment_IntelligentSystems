{
 "cells": [
  {
   "cell_type": "code",
   "execution_count": 18,
   "metadata": {},
   "outputs": [],
   "source": [
    "import pandas as pd \n",
    "import numpy as np\n",
    "from sklearn.model_selection import train_test_split\n",
    "from pyfume.Clustering import Clusterer\n",
    "from pyfume.EstimateAntecendentSet import AntecedentEstimator\n",
    "from pyfume.EstimateConsequentParameters import ConsequentEstimator\n",
    "from pyfume.SimpfulModelBuilder import SugenoFISBuilder\n",
    "from pyfume.Tester import SugenoFISTester\n",
    "from sklearn.preprocessing import MinMaxScaler\n",
    "from sklearn.metrics import mean_squared_error, mean_absolute_percentage_error, explained_variance_score"
   ]
  },
  {
   "cell_type": "code",
   "execution_count": 25,
   "metadata": {},
   "outputs": [
    {
     "data": {
      "text/html": [
       "<div>\n",
       "<style scoped>\n",
       "    .dataframe tbody tr th:only-of-type {\n",
       "        vertical-align: middle;\n",
       "    }\n",
       "\n",
       "    .dataframe tbody tr th {\n",
       "        vertical-align: top;\n",
       "    }\n",
       "\n",
       "    .dataframe thead th {\n",
       "        text-align: right;\n",
       "    }\n",
       "</style>\n",
       "<table border=\"1\" class=\"dataframe\">\n",
       "  <thead>\n",
       "    <tr style=\"text-align: right;\">\n",
       "      <th></th>\n",
       "      <th>Voltage</th>\n",
       "      <th>Output Air Temperature</th>\n",
       "    </tr>\n",
       "  </thead>\n",
       "  <tbody>\n",
       "    <tr>\n",
       "      <th>0</th>\n",
       "      <td>6.41</td>\n",
       "      <td>4.7661</td>\n",
       "    </tr>\n",
       "    <tr>\n",
       "      <th>1</th>\n",
       "      <td>3.41</td>\n",
       "      <td>4.7637</td>\n",
       "    </tr>\n",
       "    <tr>\n",
       "      <th>2</th>\n",
       "      <td>6.41</td>\n",
       "      <td>4.8394</td>\n",
       "    </tr>\n",
       "    <tr>\n",
       "      <th>3</th>\n",
       "      <td>6.41</td>\n",
       "      <td>5.0030</td>\n",
       "    </tr>\n",
       "    <tr>\n",
       "      <th>4</th>\n",
       "      <td>6.41</td>\n",
       "      <td>5.0176</td>\n",
       "    </tr>\n",
       "  </tbody>\n",
       "</table>\n",
       "</div>"
      ],
      "text/plain": [
       "   Voltage  Output Air Temperature\n",
       "0     6.41                  4.7661\n",
       "1     3.41                  4.7637\n",
       "2     6.41                  4.8394\n",
       "3     6.41                  5.0030\n",
       "4     6.41                  5.0176"
      ]
     },
     "execution_count": 25,
     "metadata": {},
     "output_type": "execute_result"
    }
   ],
   "source": [
    "#Load the DataSet \n",
    "column_names = ['Voltage','Output Air Temperature']\n",
    "HD_df = pd.read_csv(os.path.abspath('hairdryer.csv'),names=column_names)\n",
    "HD_df.head()"
   ]
  },
  {
   "cell_type": "code",
   "execution_count": 65,
   "metadata": {},
   "outputs": [],
   "source": [
    "#Create the x and y variables\n",
    "x = HD_df['Voltage'].values.reshape(-1, 1)\n",
    "y = HD_df['Output Air Temperature'].values.reshape(-1, 1)\n",
    "\n",
    "#Split the variables into train and test sets\n",
    "seed = 7\n",
    "X_train, X_test, y_train, y_test = train_test_split(x, y, train_size=0.8, random_state=seed)\n",
    "\n",
    "#Squeeze y_train to correct the dimensions\n",
    "y_train = np.squeeze(y_train)"
   ]
  },
  {
   "cell_type": "code",
   "execution_count": 75,
   "metadata": {},
   "outputs": [],
   "source": [
    "#Cluster the input-output space\n",
    "cl = Clusterer(x_train=X_train, y_train=y_train, nr_clus=3)\n",
    "clust_centers, part_matrix, _ = cl.cluster(method='fcm')"
   ]
  },
  {
   "cell_type": "code",
   "execution_count": 72,
   "metadata": {},
   "outputs": [],
   "source": [
    "#Estimate membership functions parameters\n",
    "ae = AntecedentEstimator(X_train, part_matrix)\n",
    "antecedent_params = ae.determineMF()"
   ]
  },
  {
   "cell_type": "code",
   "execution_count": 73,
   "metadata": {},
   "outputs": [],
   "source": [
    "#Estimate consequent parameters\n",
    "ce = ConsequentEstimator(X_train, y_train, part_matrix)\n",
    "conseq_params = ce.suglms()"
   ]
  },
  {
   "cell_type": "code",
   "execution_count": 69,
   "metadata": {},
   "outputs": [
    {
     "name": "stdout",
     "output_type": "stream",
     "text": [
      "Antecedent Parameters: [('gauss', array([6.97418931, 1.9987648 ])), ('gauss', array([2.78762261, 2.15750951]))]\n",
      "Consequent Parameters: [[ 0.05472914  4.67967836]\n",
      " [-0.03944408  4.90710198]]\n",
      "Column Names: ['Voltage', 'Output Air Temperature']\n",
      "Number of Antecedent Sets: 2\n",
      "Number of Consequent Sets: 2\n",
      "Number of Column Names: 2\n"
     ]
    }
   ],
   "source": [
    "# Print out the inputs\n",
    "print(f\"Antecedent Parameters: {antecedent_params}\")  # Check if this matches expected inputs\n",
    "print(f\"Consequent Parameters: {conseq_params}\")      # Check the length and structure\n",
    "print(f\"Column Names: {column_names}\")                # Ensure this aligns with antecedent and consequent\n",
    "\n",
    "# Also, check the lengths\n",
    "print(f\"Number of Antecedent Sets: {len(antecedent_params)}\")\n",
    "print(f\"Number of Consequent Sets: {len(conseq_params)}\")\n",
    "print(f\"Number of Column Names: {len(column_names)}\")"
   ]
  },
  {
   "cell_type": "code",
   "execution_count": 74,
   "metadata": {},
   "outputs": [
    {
     "name": "stdout",
     "output_type": "stream",
     "text": [
      " * Detected 3 rules / clusters\n"
     ]
    },
    {
     "ename": "IndexError",
     "evalue": "list index out of range",
     "output_type": "error",
     "traceback": [
      "\u001b[1;31m---------------------------------------------------------------------------\u001b[0m",
      "\u001b[1;31mIndexError\u001b[0m                                Traceback (most recent call last)",
      "\u001b[1;32mc:\\Users\\rodri\\Desktop\\MEMEC - 2ºAno\\Sistemas Inteligentes\\First Assignment\\First-Assignment_IntelligentSystems\\first_assignment\\data\\RegressionHairdryier.ipynb Cell 8\u001b[0m in \u001b[0;36m<cell line: 2>\u001b[1;34m()\u001b[0m\n\u001b[0;32m      <a href='vscode-notebook-cell:/c%3A/Users/rodri/Desktop/MEMEC%20-%202%C2%BAAno/Sistemas%20Inteligentes/First%20Assignment/First-Assignment_IntelligentSystems/first_assignment/data/RegressionHairdryier.ipynb#X16sZmlsZQ%3D%3D?line=0'>1</a>\u001b[0m \u001b[39m#Build first-order Takagi-Sugeno model\u001b[39;00m\n\u001b[1;32m----> <a href='vscode-notebook-cell:/c%3A/Users/rodri/Desktop/MEMEC%20-%202%C2%BAAno/Sistemas%20Inteligentes/First%20Assignment/First-Assignment_IntelligentSystems/first_assignment/data/RegressionHairdryier.ipynb#X16sZmlsZQ%3D%3D?line=1'>2</a>\u001b[0m modbuilder \u001b[39m=\u001b[39m SugenoFISBuilder(antecedent_params, conseq_params, column_names, save_simpful_code\u001b[39m=\u001b[39;49m\u001b[39mFalse\u001b[39;49;00m)\n\u001b[0;32m      <a href='vscode-notebook-cell:/c%3A/Users/rodri/Desktop/MEMEC%20-%202%C2%BAAno/Sistemas%20Inteligentes/First%20Assignment/First-Assignment_IntelligentSystems/first_assignment/data/RegressionHairdryier.ipynb#X16sZmlsZQ%3D%3D?line=2'>3</a>\u001b[0m model \u001b[39m=\u001b[39m modbuilder\u001b[39m.\u001b[39mget_model()\n",
      "File \u001b[1;32mc:\\Users\\rodri\\AppData\\Local\\Programs\\Python\\Python39\\lib\\site-packages\\pyfume\\SimpfulModelBuilder.py:55\u001b[0m, in \u001b[0;36mSugenoFISBuilder.__init__\u001b[1;34m(self, antecedent_sets, consequent_parameters, variable_names, normalization_values, model_order, extreme_values, operators, save_simpful_code, fuzzy_sets_to_drop, setnes_dropped_antecedents, verbose, categorical_indices)\u001b[0m\n\u001b[0;32m     52\u001b[0m \u001b[39melif\u001b[39;00m save_simpful_code \u001b[39mis\u001b[39;00m \u001b[39mnot\u001b[39;00m \u001b[39mFalse\u001b[39;00m:\n\u001b[0;32m     53\u001b[0m     \u001b[39mself\u001b[39m\u001b[39m.\u001b[39m_SC\u001b[39m.\u001b[39msave_code(save_simpful_code)\n\u001b[1;32m---> 55\u001b[0m \u001b[39mself\u001b[39;49m\u001b[39m.\u001b[39;49m_SC\u001b[39m.\u001b[39;49mgenerate_object()\n\u001b[0;32m     57\u001b[0m \u001b[39mself\u001b[39m\u001b[39m.\u001b[39msimpfulmodel \u001b[39m=\u001b[39m \u001b[39mself\u001b[39m\u001b[39m.\u001b[39m_SC\u001b[39m.\u001b[39m_fuzzyreasoner\n",
      "File \u001b[1;32mc:\\Users\\rodri\\AppData\\Local\\Programs\\Python\\Python39\\lib\\site-packages\\pyfume\\simpfulfier.py:87\u001b[0m, in \u001b[0;36mSimpfulConverter.generate_object\u001b[1;34m(self)\u001b[0m\n\u001b[0;32m     83\u001b[0m \u001b[39mdef\u001b[39;00m \u001b[39mgenerate_object\u001b[39m(\u001b[39mself\u001b[39m):\n\u001b[0;32m     84\u001b[0m     \u001b[39m\"\"\"\u001b[39;00m\n\u001b[0;32m     85\u001b[0m \u001b[39m        Generates the executable object containing the fuzzy model.\u001b[39;00m\n\u001b[0;32m     86\u001b[0m \u001b[39m    \"\"\"\u001b[39;00m\n\u001b[1;32m---> 87\u001b[0m     code \u001b[39m=\u001b[39m \u001b[39mself\u001b[39;49m\u001b[39m.\u001b[39;49mgenerate_code()\n\u001b[0;32m     88\u001b[0m     \u001b[39mif\u001b[39;00m \u001b[39mself\u001b[39m\u001b[39m.\u001b[39mverbose:\n\u001b[0;32m     89\u001b[0m         exec(code, \u001b[39mglobals\u001b[39m())\n",
      "File \u001b[1;32mc:\\Users\\rodri\\AppData\\Local\\Programs\\Python\\Python39\\lib\\site-packages\\pyfume\\simpfulfier.py:127\u001b[0m, in \u001b[0;36mSimpfulConverter.generate_code\u001b[1;34m(self)\u001b[0m\n\u001b[0;32m    124\u001b[0m \u001b[39mself\u001b[39m\u001b[39m.\u001b[39m_source_code\u001b[39m.\u001b[39mappend(\u001b[39m\"\u001b[39m\u001b[39m\"\u001b[39m)\n\u001b[0;32m    126\u001b[0m \u001b[39m# fuzzy sets and membership functions\u001b[39;00m\n\u001b[1;32m--> 127\u001b[0m result \u001b[39m=\u001b[39m \u001b[39mself\u001b[39;49m\u001b[39m.\u001b[39;49m_create_fuzzy_sets()\n\u001b[0;32m    128\u001b[0m \u001b[39mself\u001b[39m\u001b[39m.\u001b[39m_source_code\u001b[39m.\u001b[39mappend(result)\n\u001b[0;32m    130\u001b[0m \u001b[39mself\u001b[39m\u001b[39m.\u001b[39m_source_code\u001b[39m.\u001b[39mappend(\u001b[39m\"\u001b[39m\u001b[39m# end of automatically generated code #\u001b[39m\u001b[39m\"\u001b[39m)\n",
      "File \u001b[1;32mc:\\Users\\rodri\\AppData\\Local\\Programs\\Python\\Python39\\lib\\site-packages\\pyfume\\simpfulfier.py:159\u001b[0m, in \u001b[0;36mSimpfulConverter._create_fuzzy_sets\u001b[1;34m(self)\u001b[0m\n\u001b[0;32m    156\u001b[0m chunk \u001b[39m+\u001b[39m\u001b[39m=\u001b[39m \u001b[39m'\u001b[39m\u001b[39mFS_\u001b[39m\u001b[39m%d\u001b[39;00m\u001b[39m = FuzzySet(\u001b[39m\u001b[39m'\u001b[39m \u001b[39m%\u001b[39m (j \u001b[39m+\u001b[39m \u001b[39m1\u001b[39m)\n\u001b[0;32m    157\u001b[0m term \u001b[39m=\u001b[39m \u001b[39m'\u001b[39m\u001b[39mcluster\u001b[39m\u001b[39m%d\u001b[39;00m\u001b[39m'\u001b[39m \u001b[39m%\u001b[39m (cluster \u001b[39m+\u001b[39m \u001b[39m1\u001b[39m)\n\u001b[1;32m--> 159\u001b[0m fstype, params \u001b[39m=\u001b[39m \u001b[39mself\u001b[39;49m\u001b[39m.\u001b[39;49m_fuzzy_sets[j]\n\u001b[0;32m    160\u001b[0m \u001b[39mif\u001b[39;00m fstype \u001b[39m==\u001b[39m \u001b[39m'\u001b[39m\u001b[39mgauss\u001b[39m\u001b[39m'\u001b[39m:\n\u001b[0;32m    161\u001b[0m     chunk \u001b[39m+\u001b[39m\u001b[39m=\u001b[39m \u001b[39m\"\u001b[39m\u001b[39mfunction=Gaussian_MF(\u001b[39m\u001b[39m%f\u001b[39;00m\u001b[39m, \u001b[39m\u001b[39m%f\u001b[39;00m\u001b[39m), term=\u001b[39m\u001b[39m'\u001b[39m\u001b[39m%s\u001b[39;00m\u001b[39m'\u001b[39m\u001b[39m)\u001b[39m\u001b[39m\"\u001b[39m \u001b[39m%\u001b[39m (params[\u001b[39m0\u001b[39m], params[\u001b[39m1\u001b[39m], term)\n",
      "\u001b[1;31mIndexError\u001b[0m: list index out of range"
     ]
    }
   ],
   "source": [
    "#Build first-order Takagi-Sugeno model\n",
    "modbuilder = SugenoFISBuilder(antecedent_params, conseq_params, column_names, save_simpful_code=False)\n",
    "model = modbuilder.get_model()"
   ]
  },
  {
   "cell_type": "code",
   "execution_count": 60,
   "metadata": {},
   "outputs": [
    {
     "ename": "NameError",
     "evalue": "name 'model' is not defined",
     "output_type": "error",
     "traceback": [
      "\u001b[1;31m---------------------------------------------------------------------------\u001b[0m",
      "\u001b[1;31mNameError\u001b[0m                                 Traceback (most recent call last)",
      "\u001b[1;32mc:\\Users\\rodri\\Desktop\\MEMEC - 2ºAno\\Sistemas Inteligentes\\First Assignment\\First-Assignment_IntelligentSystems\\first_assignment\\data\\RegressionHairdryier.ipynb Cell 9\u001b[0m in \u001b[0;36m<cell line: 2>\u001b[1;34m()\u001b[0m\n\u001b[0;32m      <a href='vscode-notebook-cell:/c%3A/Users/rodri/Desktop/MEMEC%20-%202%C2%BAAno/Sistemas%20Inteligentes/First%20Assignment/First-Assignment_IntelligentSystems/first_assignment/data/RegressionHairdryier.ipynb#X15sZmlsZQ%3D%3D?line=0'>1</a>\u001b[0m \u001b[39m#Get model predictions\u001b[39;00m\n\u001b[1;32m----> <a href='vscode-notebook-cell:/c%3A/Users/rodri/Desktop/MEMEC%20-%202%C2%BAAno/Sistemas%20Inteligentes/First%20Assignment/First-Assignment_IntelligentSystems/first_assignment/data/RegressionHairdryier.ipynb#X15sZmlsZQ%3D%3D?line=1'>2</a>\u001b[0m modtester \u001b[39m=\u001b[39m SugenoFISTester(model, X_test, column_names)\n\u001b[0;32m      <a href='vscode-notebook-cell:/c%3A/Users/rodri/Desktop/MEMEC%20-%202%C2%BAAno/Sistemas%20Inteligentes/First%20Assignment/First-Assignment_IntelligentSystems/first_assignment/data/RegressionHairdryier.ipynb#X15sZmlsZQ%3D%3D?line=2'>3</a>\u001b[0m y_pred \u001b[39m=\u001b[39m modtester\u001b[39m.\u001b[39mpredict()[\u001b[39m0\u001b[39m]\n",
      "\u001b[1;31mNameError\u001b[0m: name 'model' is not defined"
     ]
    }
   ],
   "source": [
    "#Get model predictions\n",
    "modtester = SugenoFISTester(model, X_test, column_names)\n",
    "y_pred = modtester.predict()[0]"
   ]
  },
  {
   "cell_type": "code",
   "execution_count": null,
   "metadata": {},
   "outputs": [],
   "source": [
    "# %% Compute regression metrics\n",
    "mse = mean_squared_error(y_test, y_pred)\n",
    "print(\"Mean Squared Error: {:.3f}\".format(mse))\n",
    "mape = mean_absolute_percentage_error(y_test, y_pred)\n",
    "print(\"Mean Absolute Percentage Error: {:.1f}%\".format(mape*100))\n",
    "exp_var = explained_variance_score(y_test, y_pred)\n",
    "print(\"Explained Variance Score: {:.3f}\".format(exp_var))"
   ]
  }
 ],
 "metadata": {
  "kernelspec": {
   "display_name": "Python 3.9.1rc1 64-bit",
   "language": "python",
   "name": "python3"
  },
  "language_info": {
   "codemirror_mode": {
    "name": "ipython",
    "version": 3
   },
   "file_extension": ".py",
   "mimetype": "text/x-python",
   "name": "python",
   "nbconvert_exporter": "python",
   "pygments_lexer": "ipython3",
   "version": "3.9.1rc1"
  },
  "orig_nbformat": 4,
  "vscode": {
   "interpreter": {
    "hash": "98b9776bb1c906ffea5885633daef92fdfff9bdc53a036d784e355cfb10fec4f"
   }
  }
 },
 "nbformat": 4,
 "nbformat_minor": 2
}
