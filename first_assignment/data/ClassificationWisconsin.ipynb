{
 "cells": [
  {
   "cell_type": "code",
   "execution_count": 28,
   "metadata": {},
   "outputs": [],
   "source": [
    "import os\n",
    "import numpy as np\n",
    "import pandas as pd\n",
    "from sklearn.model_selection import train_test_split\n",
    "from pyfume.Clustering import Clusterer\n",
    "from pyfume.EstimateAntecendentSet import AntecedentEstimator\n",
    "from pyfume.EstimateConsequentParameters import ConsequentEstimator\n",
    "from pyfume.SimpfulModelBuilder import SugenoFISBuilder\n",
    "from pyfume.Tester import SugenoFISTester\n",
    "from sklearn.metrics import accuracy_score, recall_score, precision_score, f1_score, cohen_kappa_score\n",
    "from numpy import clip, column_stack, argmax"
   ]
  },
  {
   "cell_type": "code",
   "execution_count": 29,
   "metadata": {},
   "outputs": [],
   "source": [
    "column_names = [\"Clump_Thickness\", \"Uniformity_of_Cell_Size\", \"Uniformity_of_Cell_Shape\", \"Marginal_Adhesion\", \"Single_Epithelial_Cell_Size\", \"Bland_Chromatin\", \"Normal_Nucleoli\", \"Mitoses\", \"Something\", \"Cancer\"]\n",
    "data = pd.read_csv(os.path.abspath('wbco.csv'),names=column_names)\n",
    "data.head()\n",
    "rows_with_question_mark = data[data.isin([\"?\"]).any(axis=1)].index\n",
    "data = data.drop(rows_with_question_mark)\n",
    "\n",
    "data = data.astype('int')\n",
    "data['Cancer'] = data['Cancer'].astype('int')\n",
    "\n",
    "column_names = column_names[:-1]\n",
    "\n",
    "X = data[column_names].values\n",
    "y = data[\"Cancer\"].values.reshape(-1, 1)"
   ]
  },
  {
   "cell_type": "code",
   "execution_count": 30,
   "metadata": {},
   "outputs": [],
   "source": [
    "# Train test split\n",
    "X_train, X_test, y_train, y_test = train_test_split(X, y, test_size=0.2, random_state=42)\n",
    "y_train = np.squeeze(y_train) \n"
   ]
  },
  {
   "cell_type": "code",
   "execution_count": 31,
   "metadata": {},
   "outputs": [],
   "source": [
    "# Cluster the input-output space\n",
    "cl = Clusterer(x_train=X_train, y_train=y_train, nr_clus=10)\n",
    "clust_centers, part_matrix, _ = cl.cluster(method='fcm')"
   ]
  },
  {
   "cell_type": "code",
   "execution_count": 32,
   "metadata": {},
   "outputs": [],
   "source": [
    "#Estimate membership functions parameters\n",
    "ae = AntecedentEstimator(X_train, part_matrix)\n",
    "antecedent_params = ae.determineMF()"
   ]
  },
  {
   "cell_type": "code",
   "execution_count": 33,
   "metadata": {},
   "outputs": [],
   "source": [
    "#Estimate consequent parameters\n",
    "ce = ConsequentEstimator(X_train, y_train, part_matrix)\n",
    "conseq_params = ce.suglms()"
   ]
  },
  {
   "cell_type": "code",
   "execution_count": 34,
   "metadata": {},
   "outputs": [
    {
     "name": "stdout",
     "output_type": "stream",
     "text": [
      " * Detected 10 rules / clusters\n",
      " * Detected Sugeno model type\n"
     ]
    }
   ],
   "source": [
    "modbuilder = SugenoFISBuilder(antecedent_params, conseq_params, column_names, save_simpful_code=False)\n",
    "model = modbuilder.get_model()"
   ]
  },
  {
   "cell_type": "code",
   "execution_count": 35,
   "metadata": {},
   "outputs": [],
   "source": [
    "modtester = SugenoFISTester(model, X_test, column_names)\n",
    "y_pred = modtester.predict()[0]\n",
    "y_pred = y_pred.astype(int)"
   ]
  },
  {
   "cell_type": "code",
   "execution_count": 36,
   "metadata": {},
   "outputs": [
    {
     "name": "stdout",
     "output_type": "stream",
     "text": [
      "Accuracy: 0.723\n",
      "Recall: 0.345\n",
      "Precision Score: 1.000\n",
      "F1-Score: 0.513\n",
      "Kappa Score: 0.378\n"
     ]
    }
   ],
   "source": [
    "# %% Compute classification metrics\n",
    "acc_score = accuracy_score(y_test, y_pred)\n",
    "print(\"Accuracy: {:.3f}\".format(acc_score))\n",
    "rec_score = recall_score(y_test, y_pred)\n",
    "print(\"Recall: {:.3f}\".format(rec_score))\n",
    "prec_score = precision_score(y_test, y_pred)\n",
    "print(\"Precision Score: {:.3f}\".format(prec_score))\n",
    "F1_score = f1_score(y_test, y_pred)\n",
    "print(\"F1-Score: {:.3f}\".format(F1_score))\n",
    "kappa = cohen_kappa_score(y_test, y_pred)\n",
    "print(\"Kappa Score: {:.3f}\".format(kappa))"
   ]
  }
 ],
 "metadata": {
  "kernelspec": {
   "display_name": "Python 3.9.1rc1 64-bit",
   "language": "python",
   "name": "python3"
  },
  "language_info": {
   "codemirror_mode": {
    "name": "ipython",
    "version": 3
   },
   "file_extension": ".py",
   "mimetype": "text/x-python",
   "name": "python",
   "nbconvert_exporter": "python",
   "pygments_lexer": "ipython3",
   "version": "3.11.7"
  },
  "vscode": {
   "interpreter": {
    "hash": "98b9776bb1c906ffea5885633daef92fdfff9bdc53a036d784e355cfb10fec4f"
   }
  }
 },
 "nbformat": 4,
 "nbformat_minor": 2
}
